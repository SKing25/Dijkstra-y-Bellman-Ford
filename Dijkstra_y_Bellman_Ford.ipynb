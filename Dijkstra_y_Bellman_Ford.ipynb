{
  "nbformat": 4,
  "nbformat_minor": 0,
  "metadata": {
    "colab": {
      "provenance": [],
      "authorship_tag": "ABX9TyM46cljIKunv+DPPfOypl/o",
      "include_colab_link": true
    },
    "kernelspec": {
      "name": "python3",
      "display_name": "Python 3"
    },
    "language_info": {
      "name": "python"
    }
  },
  "cells": [
    {
      "cell_type": "markdown",
      "metadata": {
        "id": "view-in-github",
        "colab_type": "text"
      },
      "source": [
        "<a href=\"https://colab.research.google.com/github/SKing25/Dijkstra-y-Bellman-Ford/blob/main/Dijkstra_y_Bellman_Ford.ipynb\" target=\"_parent\"><img src=\"https://colab.research.google.com/assets/colab-badge.svg\" alt=\"Open In Colab\"/></a>"
      ]
    },
    {
      "cell_type": "markdown",
      "source": [
        "Algoritmo de Dijkstra"
      ],
      "metadata": {
        "id": "eKRU5ZIp0BIV"
      }
    },
    {
      "cell_type": "code",
      "source": [
        "from heapq import heapify, heappop, heappush\n",
        "\n",
        "class Graph:\n",
        "  def __init__(self, graph: dict = {}):\n",
        "    self.graph = graph  # Un diccionario para la lista de adyacencia\n",
        "\n",
        "  def add_edge(self, node1, node2, weight):\n",
        "    if node1 not in self.graph:  # Verifica q el nodo ya este añadido\n",
        "      self.graph[node1] = {}  # Si no está se crea el nodo\n",
        "    self.graph[node1][node2] = weight  # Else, añade la conexion a sus vecinos\n",
        "\n",
        "  def shortest_distances(self, source: str):\n",
        "    # Inicializa los valores de los nodos en infinito\n",
        "    distances = {node: float(\"inf\") for node in self.graph}\n",
        "    distances[source] = 0  # Pone el valor del nodo de inicio en 0\n",
        "\n",
        "    # Inicializa la cola de prioridad\n",
        "    pq = [(0, source)]\n",
        "    heapify(pq)\n",
        "\n",
        "    # Crea un set para los nodos visitados\n",
        "    visited = set()\n",
        "\n",
        "    while pq:  # While la cola de prioridad no este vacia\n",
        "      current_distance, current_node = heappop(pq)  # Obtiene el nodo con la menor distancia\n",
        "\n",
        "      if current_node in visited:\n",
        "        continue  # Omite los nodos visitados\n",
        "      visited.add(current_node)  # Else, añade los nodos visitados al ser\n",
        "\n",
        "      for neighbor, weight in self.graph[current_node].items():\n",
        "        # Calcular la distancia entre el current_node hasta el vecino\n",
        "        tentative_distance = current_distance + weight\n",
        "        if tentative_distance < distances[neighbor]:\n",
        "          distances[neighbor] = tentative_distance\n",
        "          heappush(pq, (tentative_distance, neighbor))\n",
        "\n",
        "    predecessors = {node: None for node in self.graph}\n",
        "\n",
        "    for node, distance in distances.items():\n",
        "      for neighbor, weight in self.graph[node].items():\n",
        "        if distances[neighbor] == distance + weight:\n",
        "          predecessors[neighbor] = node\n",
        "\n",
        "    return distances, predecessors\n",
        "\n",
        "  def shortest_path(self, source: str, target: str):\n",
        "   # Generar un diccionario de predecesores\n",
        "   _, predecessors = self.shortest_distances(source)\n",
        "\n",
        "   path = []\n",
        "   current_node = target\n",
        "\n",
        "   # Backtrack from the target node using predecessors\n",
        "   while current_node:\n",
        "       path.append(current_node)\n",
        "       current_node = predecessors[current_node]\n",
        "\n",
        "   # Reverse la ruta y la retorna\n",
        "   path.reverse()\n",
        "\n",
        "   return path"
      ],
      "metadata": {
        "id": "M0zAPZpjY9dA"
      },
      "execution_count": null,
      "outputs": []
    },
    {
      "cell_type": "markdown",
      "source": [
        "Problema 1"
      ],
      "metadata": {
        "id": "mkzvZ6Q4shja"
      }
    },
    {
      "cell_type": "code",
      "source": [
        "# Cada clave del diccionario es un nodo y cada valor es un diccionario con los vecinos y la clave la distancia\n",
        "miGrafo1 = {\n",
        "  \"A\": {\"B\": 6, \"D\": 1},\n",
        "  \"B\": {\"A\": 6, \"D\": 2, \"E\": 2, \"C\": 5},\n",
        "  \"C\": {\"B\": 5, \"E\": 5},\n",
        "  \"D\": {\"A\": 1, \"B\": 2, \"E\": 1},\n",
        "  \"E\": {\"B\": 2, \"C\": 5, \"D\": 1},\n",
        "}\n",
        "\n",
        "# Usamos el diccionario para pasar a los vecinos y sus distancias directamente\n",
        "G = Graph(graph=miGrafo1)\n",
        "source = \"A\"\n",
        "distances, predecessors = G.shortest_distances(source)\n",
        "\n",
        "for node in distances:\n",
        "  path = G.shortest_path(source, node).__str__()\n",
        "  path = path.replace(\"'\", \"\")\n",
        "  path = path.replace(\"[\", \"\")\n",
        "  path = path.replace(\"]\", \"\")\n",
        "  path = path.replace(\", \", \" -> \")\n",
        "  print(f\"La distancia mas corta desde {source} a {node} es {distances[node]} ({path})\")\n"
      ],
      "metadata": {
        "colab": {
          "base_uri": "https://localhost:8080/"
        },
        "id": "l_Bn5Rr2shJP",
        "outputId": "ad2be180-3325-4379-cf78-e3e021fa4766"
      },
      "execution_count": null,
      "outputs": [
        {
          "output_type": "stream",
          "name": "stdout",
          "text": [
            "La distancia mas corta desde A a A es 0 (A)\n",
            "La distancia mas corta desde A a B es 3 (A -> D -> B)\n",
            "La distancia mas corta desde A a C es 7 (A -> D -> E -> C)\n",
            "La distancia mas corta desde A a D es 1 (A -> D)\n",
            "La distancia mas corta desde A a E es 2 (A -> D -> E)\n"
          ]
        }
      ]
    },
    {
      "cell_type": "markdown",
      "source": [
        "Problema 2"
      ],
      "metadata": {
        "id": "8fgE7e9OtDAL"
      }
    },
    {
      "cell_type": "code",
      "source": [
        "miGrafo2 = {\n",
        "  \"F\": {\"G\": 3, \"H\": 2},\n",
        "  \"G\": {\"F\": 3, \"I\": 4},\n",
        "  \"H\": {\"F\": 2, \"I\": 1, \"K\": 6},\n",
        "  \"I\": {\"G\": 4, \"H\": 1, \"J\": 5},\n",
        "  \"J\": {\"I\": 5},\n",
        "  \"K\": {\"H\": 6}\n",
        "}\n",
        "\n",
        "G = Graph(graph=miGrafo2)\n",
        "source = \"F\"\n",
        "distances, predecessors = G.shortest_distances(source)\n",
        "\n",
        "for node in distances:\n",
        "  path = G.shortest_path(source, node).__str__()\n",
        "  path = path.replace(\"'\", \"\")\n",
        "  path = path.replace(\"[\", \"\")\n",
        "  path = path.replace(\"]\", \"\")\n",
        "  path = path.replace(\", \", \" -> \")\n",
        "  print(f\"La distancia mas corta desde {source} a {node} es {distances[node]} ({path})\")\n"
      ],
      "metadata": {
        "colab": {
          "base_uri": "https://localhost:8080/"
        },
        "id": "yt6OFSngsuMs",
        "outputId": "48428075-4138-4c8d-bf19-a35a74126d2a"
      },
      "execution_count": null,
      "outputs": [
        {
          "output_type": "stream",
          "name": "stdout",
          "text": [
            "La distancia mas corta desde F a F es 0 (F)\n",
            "La distancia mas corta desde F a G es 3 (F -> G)\n",
            "La distancia mas corta desde F a H es 2 (F -> H)\n",
            "La distancia mas corta desde F a I es 3 (F -> H -> I)\n",
            "La distancia mas corta desde F a J es 8 (F -> H -> I -> J)\n",
            "La distancia mas corta desde F a K es 8 (F -> H -> K)\n"
          ]
        }
      ]
    },
    {
      "cell_type": "markdown",
      "source": [
        "Problema 3"
      ],
      "metadata": {
        "id": "Ic71OT8purNN"
      }
    },
    {
      "cell_type": "code",
      "source": [
        "miGrafo3 = {\n",
        "  \"L\": {\"M\": 2, \"N\": 5},\n",
        "  \"M\": {\"L\": 2, \"O\": 3},\n",
        "  \"N\": {\"L\": 5, \"O\": 2},\n",
        "  \"O\": {\"M\": 3, \"N\": 2, \"P\": 4},\n",
        "  \"P\": {\"O\": 4, \"Q\": 1, \"R\": 2},\n",
        "  \"Q\": {\"P\": 1},\n",
        "  \"R\": {\"P\": 2}\n",
        "}\n",
        "\n",
        "G = Graph(graph=miGrafo3)\n",
        "source = \"L\"\n",
        "distances, predecessors = G.shortest_distances(source)\n",
        "\n",
        "for node in distances:\n",
        "  path = G.shortest_path(source, node).__str__()\n",
        "  path = path.replace(\"'\", \"\")\n",
        "  path = path.replace(\"[\", \"\")\n",
        "  path = path.replace(\"]\", \"\")\n",
        "  path = path.replace(\", \", \" -> \")\n",
        "  print(f\"La distancia mas corta desde {source} a {node} es {distances[node]} ({path})\")\n"
      ],
      "metadata": {
        "colab": {
          "base_uri": "https://localhost:8080/"
        },
        "id": "dUbQ1V0quk73",
        "outputId": "75d9fcc7-bf4b-4156-ad31-7149ad2acc75"
      },
      "execution_count": null,
      "outputs": [
        {
          "output_type": "stream",
          "name": "stdout",
          "text": [
            "La distancia mas corta desde L a L es 0 (L)\n",
            "La distancia mas corta desde L a M es 2 (L -> M)\n",
            "La distancia mas corta desde L a N es 5 (L -> N)\n",
            "La distancia mas corta desde L a O es 5 (L -> M -> O)\n",
            "La distancia mas corta desde L a P es 9 (L -> M -> O -> P)\n",
            "La distancia mas corta desde L a Q es 10 (L -> M -> O -> P -> Q)\n",
            "La distancia mas corta desde L a R es 11 (L -> M -> O -> P -> R)\n"
          ]
        }
      ]
    },
    {
      "cell_type": "markdown",
      "source": [
        "Problema 4"
      ],
      "metadata": {
        "id": "77OXBd1jwSL5"
      }
    },
    {
      "cell_type": "code",
      "source": [
        "miGrafo4 = {\n",
        "  \"S\": {\"T\": 4, \"U\": 2},\n",
        "  \"T\": {\"S\": 4, \"V\": 3, \"W\": 1},\n",
        "  \"U\": {\"S\": 2, \"V\": 1},\n",
        "  \"V\": {\"T\": 3, \"U\": 1, \"X\": 5},\n",
        "  \"W\": {\"T\": 1, \"X\": 2},\n",
        "  \"X\": {\"V\": 5, \"W\": 2}\n",
        "}\n",
        "\n",
        "G = Graph(graph=miGrafo4)\n",
        "source = \"S\"\n",
        "distances, predecessors = G.shortest_distances(source)\n",
        "\n",
        "for node in distances:\n",
        "  path = G.shortest_path(source, node).__str__()\n",
        "  path = path.replace(\"'\", \"\")\n",
        "  path = path.replace(\"[\", \"\")\n",
        "  path = path.replace(\"]\", \"\")\n",
        "  path = path.replace(\", \", \" -> \")\n",
        "  print(f\"La distancia mas corta desde {source} a {node} es {distances[node]} ({path})\")\n"
      ],
      "metadata": {
        "colab": {
          "base_uri": "https://localhost:8080/"
        },
        "id": "2BeIcVi2wRCU",
        "outputId": "bfd20347-0d61-498a-af82-8d1016b0de4f"
      },
      "execution_count": null,
      "outputs": [
        {
          "output_type": "stream",
          "name": "stdout",
          "text": [
            "La distancia mas corta desde S a S es 0 (S)\n",
            "La distancia mas corta desde S a T es 4 (S -> T)\n",
            "La distancia mas corta desde S a U es 2 (S -> U)\n",
            "La distancia mas corta desde S a V es 3 (S -> U -> V)\n",
            "La distancia mas corta desde S a W es 5 (S -> T -> W)\n",
            "La distancia mas corta desde S a X es 7 (S -> T -> W -> X)\n"
          ]
        }
      ]
    },
    {
      "cell_type": "markdown",
      "source": [
        "Problema 5"
      ],
      "metadata": {
        "id": "J-JBEFF2yE-F"
      }
    },
    {
      "cell_type": "code",
      "source": [
        "miGrafo5 = {\n",
        "  \"Y\": {\"Z\": 3, \"A1\": 2},\n",
        "  \"Z\": {\"Y\": 3, \"D1\": 5},\n",
        "  \"A1\": {\"Y\": 2, \"B1\": 4},\n",
        "  \"B1\": {\"A1\": 4, \"C1\": 1},\n",
        "  \"C1\": {\"B1\": 1, \"D1\": 2, \"E1\": 3},\n",
        "  \"D1\": {\"Z\": 5, \"C1\": 2},\n",
        "  \"E1\": {\"C1\": 3, \"F1\": 2},\n",
        "  \"F1\": {\"E1\": 2}\n",
        "}\n",
        "\n",
        "G = Graph(graph=miGrafo5)\n",
        "source = \"Y\"\n",
        "distances, predecessors = G.shortest_distances(source)\n",
        "\n",
        "for node in distances:\n",
        "  path = G.shortest_path(source, node).__str__()\n",
        "  path = path.replace(\"'\", \"\")\n",
        "  path = path.replace(\"[\", \"\")\n",
        "  path = path.replace(\"]\", \"\")\n",
        "  path = path.replace(\", \", \" -> \")\n",
        "  print(f\"La distancia mas corta desde {source} a {node} es {distances[node]} ({path})\")\n"
      ],
      "metadata": {
        "colab": {
          "base_uri": "https://localhost:8080/"
        },
        "id": "RL3E136YyGgU",
        "outputId": "6780d4be-f606-405a-b9db-8d4183fdf490"
      },
      "execution_count": null,
      "outputs": [
        {
          "output_type": "stream",
          "name": "stdout",
          "text": [
            "La distancia mas corta desde Y a Y es 0 (Y)\n",
            "La distancia mas corta desde Y a Z es 3 (Y -> Z)\n",
            "La distancia mas corta desde Y a A1 es 2 (Y -> A1)\n",
            "La distancia mas corta desde Y a B1 es 6 (Y -> A1 -> B1)\n",
            "La distancia mas corta desde Y a C1 es 7 (Y -> A1 -> B1 -> C1)\n",
            "La distancia mas corta desde Y a D1 es 8 (Y -> Z -> D1)\n",
            "La distancia mas corta desde Y a E1 es 10 (Y -> A1 -> B1 -> C1 -> E1)\n",
            "La distancia mas corta desde Y a F1 es 12 (Y -> A1 -> B1 -> C1 -> E1 -> F1)\n"
          ]
        }
      ]
    },
    {
      "cell_type": "markdown",
      "source": [
        "Problema 6"
      ],
      "metadata": {
        "id": "ISLfvUXAz7H7"
      }
    },
    {
      "cell_type": "code",
      "source": [
        "miGrafo6 = {\n",
        "  \"G1\": {\"H1\": 2, \"I1\": 3, \"M1\": 2},\n",
        "  \"H1\": {\"G1\": 2, \"L1\": 3},\n",
        "  \"I1\": {\"G1\": 3, \"J1\": 1},\n",
        "  \"J1\": {\"I1\": 1, \"K1\": 2},\n",
        "  \"K1\": {\"J1\": 2, \"L1\": 1},\n",
        "  \"L1\": {\"H1\": 3, \"K1\": 1, \"M1\": 3},\n",
        "  \"M1\": {\"G1\": 2, \"L1\": 3},\n",
        "}\n",
        "\n",
        "G = Graph(graph=miGrafo6)\n",
        "source = \"G1\"\n",
        "distances, predecessors = G.shortest_distances(source)\n",
        "\n",
        "for node in distances:\n",
        "  path = G.shortest_path(source, node).__str__()\n",
        "  path = path.replace(\"'\", \"\")\n",
        "  path = path.replace(\"[\", \"\")\n",
        "  path = path.replace(\"]\", \"\")\n",
        "  path = path.replace(\", \", \" -> \")\n",
        "  print(f\"La distancia mas corta desde {source} a {node} es {distances[node]} ({path})\")\n"
      ],
      "metadata": {
        "colab": {
          "base_uri": "https://localhost:8080/"
        },
        "id": "deT46WuM0LNj",
        "outputId": "54727d5f-eb3b-4fb5-ca26-1d7ca0760f42"
      },
      "execution_count": null,
      "outputs": [
        {
          "output_type": "stream",
          "name": "stdout",
          "text": [
            "La distancia mas corta desde G1 a G1 es 0 (G1)\n",
            "La distancia mas corta desde G1 a H1 es 2 (G1 -> H1)\n",
            "La distancia mas corta desde G1 a I1 es 3 (G1 -> I1)\n",
            "La distancia mas corta desde G1 a J1 es 4 (G1 -> I1 -> J1)\n",
            "La distancia mas corta desde G1 a K1 es 6 (G1 -> M1 -> L1 -> K1)\n",
            "La distancia mas corta desde G1 a L1 es 5 (G1 -> M1 -> L1)\n",
            "La distancia mas corta desde G1 a M1 es 2 (G1 -> M1)\n"
          ]
        }
      ]
    },
    {
      "cell_type": "markdown",
      "source": [
        "Algoritmo de Bellman-Ford"
      ],
      "metadata": {
        "id": "yRvzEqkP4ykZ"
      }
    },
    {
      "cell_type": "code",
      "source": [
        "class Graph:\n",
        "    def __init__(self, size):\n",
        "        self.adj_matrix = [[0] * size for _ in range(size)]\n",
        "        self.size = size\n",
        "        self.vertex_data = [''] * size\n",
        "\n",
        "    def add_edge(self, u, v, weight):\n",
        "        if 0 <= u < self.size and 0 <= v < self.size:\n",
        "            self.adj_matrix[u][v] = weight\n",
        "            #self.adj_matrix[v][u] = weight  # For undirected graph\n",
        "\n",
        "    def add_vertex_data(self, vertex, data):\n",
        "        if 0 <= vertex < self.size:\n",
        "            self.vertex_data[vertex] = data\n",
        "\n",
        "    def bellman_ford(self, start_vertex_data):\n",
        "      start_vertex = self.vertex_data.index(start_vertex_data)\n",
        "      distances = [float('inf')] * self.size\n",
        "      distances[start_vertex] = 0\n",
        "\n",
        "      # FASE 1: Relajación normal (V-1 iteraciones)\n",
        "      for i in range(self.size - 1):\n",
        "          updated = False\n",
        "          for u in range(self.size):\n",
        "              for v in range(self.size):\n",
        "                  if self.adj_matrix[u][v] != 0:\n",
        "                      if distances[u] + self.adj_matrix[u][v] < distances[v]:\n",
        "                          distances[v] = distances[u] + self.adj_matrix[u][v]\n",
        "                          print(f\"Iteración {i+1}: Relajada {self.vertex_data[u]}→{self.vertex_data[v]}, {self.vertex_data[v]} = {distances[v]}\")\n",
        "                          updated = True\n",
        "          if not updated:\n",
        "              print(f\"Iteración {i+1}: Sin cambios\")\n",
        "              break\n",
        "\n",
        "      # FASE 2: Detección de ciclos negativo\n",
        "      cycle_detected = False\n",
        "      for u in range(self.size):\n",
        "          for v in range(self.size):\n",
        "              if self.adj_matrix[u][v] != 0:\n",
        "                  if distances[u] + self.adj_matrix[u][v] < distances[v]:\n",
        "                      print(f\"Ciclo negativo detectado en {self.vertex_data[u]}→{self.vertex_data[v]}\")\n",
        "                      cycle_detected = True\n",
        "\n",
        "      if cycle_detected:\n",
        "          return None\n",
        "      else:\n",
        "          print(\"\\nNo se detectaron ciclos negativos\\n\")\n",
        "          return distances"
      ],
      "metadata": {
        "id": "8mUwyxnC41_s"
      },
      "execution_count": null,
      "outputs": []
    },
    {
      "cell_type": "markdown",
      "source": [
        "Problema 7"
      ],
      "metadata": {
        "id": "d8QnfRexKSjn"
      }
    },
    {
      "cell_type": "code",
      "source": [
        "g = Graph(5)\n",
        "\n",
        "g.add_vertex_data(0, 'P')\n",
        "g.add_vertex_data(1, 'Q')\n",
        "g.add_vertex_data(2, 'R')\n",
        "g.add_vertex_data(3, 'S')\n",
        "g.add_vertex_data(4, 'T')\n",
        "\n",
        "g.add_edge(0, 1, 4)\n",
        "g.add_edge(0, 2, 2)\n",
        "g.add_edge(1, 2, -2)\n",
        "g.add_edge(2, 3, 2)\n",
        "g.add_edge(3, 4, -1)\n",
        "g.add_edge(4, 1, 1)\n",
        "\n",
        "source = \"P\"\n",
        "print(f\"Empezando desde el vertice  {source}:\")\n",
        "distances = g.bellman_ford(source)\n",
        "for i, d in enumerate(distances):\n",
        "    print(f\"Distancia desde {source} a {g.vertex_data[i]}: {d}\")"
      ],
      "metadata": {
        "colab": {
          "base_uri": "https://localhost:8080/"
        },
        "id": "F1xvzGJ2KR9I",
        "outputId": "65db8e32-2fdb-4468-d195-93ae283ae578"
      },
      "execution_count": null,
      "outputs": [
        {
          "output_type": "stream",
          "name": "stdout",
          "text": [
            "Empezando desde el vertice  P:\n",
            "Iteración 1: Relajada P→Q, Q = 4\n",
            "Iteración 1: Relajada P→R, R = 2\n",
            "Iteración 1: Relajada R→S, S = 4\n",
            "Iteración 1: Relajada S→T, T = 3\n",
            "Iteración 2: Sin cambios\n",
            "\n",
            "No se detectaron ciclos negativos\n",
            "\n",
            "Distancia desde P a P: 0\n",
            "Distancia desde P a Q: 4\n",
            "Distancia desde P a R: 2\n",
            "Distancia desde P a S: 4\n",
            "Distancia desde P a T: 3\n"
          ]
        }
      ]
    },
    {
      "cell_type": "markdown",
      "source": [
        "Problema 8"
      ],
      "metadata": {
        "id": "BcpR_rUjTD0n"
      }
    },
    {
      "cell_type": "code",
      "source": [
        "g = Graph(6)\n",
        "\n",
        "g.add_vertex_data(0, 'U')\n",
        "g.add_vertex_data(1, 'V')\n",
        "g.add_vertex_data(2, 'W')\n",
        "g.add_vertex_data(3, 'X')\n",
        "g.add_vertex_data(4, 'Y')\n",
        "g.add_vertex_data(5, 'Z')\n",
        "\n",
        "g.add_edge(0, 1, 5)\n",
        "g.add_edge(0, 2, 3)\n",
        "g.add_edge(1, 3, 2)\n",
        "g.add_edge(2, 3, -1)\n",
        "g.add_edge(3, 4, 4)\n",
        "g.add_edge(4, 5, -2)\n",
        "\n",
        "source = \"U\"\n",
        "print(f\"Empezando desde el vertice  {source}:\")\n",
        "distances = g.bellman_ford(source)\n",
        "for i, d in enumerate(distances):\n",
        "    print(f\"Distancia desde {source} a {g.vertex_data[i]}: {d}\")"
      ],
      "metadata": {
        "colab": {
          "base_uri": "https://localhost:8080/"
        },
        "id": "DDJ4qrWbTDYB",
        "outputId": "e7697a77-449a-46d0-afda-7c35aaee35ec"
      },
      "execution_count": null,
      "outputs": [
        {
          "output_type": "stream",
          "name": "stdout",
          "text": [
            "Empezando desde el vertice  U:\n",
            "Iteración 1: Relajada U→V, V = 5\n",
            "Iteración 1: Relajada U→W, W = 3\n",
            "Iteración 1: Relajada V→X, X = 7\n",
            "Iteración 1: Relajada W→X, X = 2\n",
            "Iteración 1: Relajada X→Y, Y = 6\n",
            "Iteración 1: Relajada Y→Z, Z = 4\n",
            "Iteración 2: Sin cambios\n",
            "\n",
            "No se detectaron ciclos negativos\n",
            "\n",
            "Distancia desde U a U: 0\n",
            "Distancia desde U a V: 5\n",
            "Distancia desde U a W: 3\n",
            "Distancia desde U a X: 2\n",
            "Distancia desde U a Y: 6\n",
            "Distancia desde U a Z: 4\n"
          ]
        }
      ]
    },
    {
      "cell_type": "markdown",
      "source": [
        "Problema 9"
      ],
      "metadata": {
        "id": "D0FlFrD6Uc-K"
      }
    },
    {
      "cell_type": "code",
      "source": [
        "g = Graph(7)\n",
        "\n",
        "g.add_vertex_data(0, 'A2')\n",
        "g.add_vertex_data(1, 'B2')\n",
        "g.add_vertex_data(2, 'C2')\n",
        "g.add_vertex_data(3, 'D2')\n",
        "g.add_vertex_data(4, 'E2')\n",
        "g.add_vertex_data(5, 'F2')\n",
        "g.add_vertex_data(6, 'G2')\n",
        "\n",
        "g.add_edge(0, 1, 3)\n",
        "g.add_edge(0, 2, 2)\n",
        "g.add_edge(1, 3, -4)\n",
        "g.add_edge(2, 3, 1)\n",
        "g.add_edge(3, 4, 2)\n",
        "g.add_edge(4, 5, -1)\n",
        "g.add_edge(5, 1, -2)\n",
        "g.add_edge(5, 6, 3)\n",
        "\n",
        "source = \"A2\"\n",
        "print(f\"Empezando desde el vertice  {source}:\")\n",
        "distances = g.bellman_ford(source)\n",
        "if distances is None:\n",
        "    print(\"No se pueden calcular distancias debido a ciclo negativo\")\n",
        "else:\n",
        "    for i, d in enumerate(distances):\n",
        "        print(f\"Distancia desde {source} a {g.vertex_data[i]}: {d}\")"
      ],
      "metadata": {
        "colab": {
          "base_uri": "https://localhost:8080/"
        },
        "id": "AWYgvaboUeWp",
        "outputId": "16b64550-afc5-4ca0-f376-6730145bbf0d"
      },
      "execution_count": null,
      "outputs": [
        {
          "output_type": "stream",
          "name": "stdout",
          "text": [
            "Empezando desde el vertice  A2:\n",
            "Iteración 1: Relajada A2→B2, B2 = 3\n",
            "Iteración 1: Relajada A2→C2, C2 = 2\n",
            "Iteración 1: Relajada B2→D2, D2 = -1\n",
            "Iteración 1: Relajada D2→E2, E2 = 1\n",
            "Iteración 1: Relajada E2→F2, F2 = 0\n",
            "Iteración 1: Relajada F2→B2, B2 = -2\n",
            "Iteración 1: Relajada F2→G2, G2 = 3\n",
            "Iteración 2: Relajada B2→D2, D2 = -6\n",
            "Iteración 2: Relajada D2→E2, E2 = -4\n",
            "Iteración 2: Relajada E2→F2, F2 = -5\n",
            "Iteración 2: Relajada F2→B2, B2 = -7\n",
            "Iteración 2: Relajada F2→G2, G2 = -2\n",
            "Iteración 3: Relajada B2→D2, D2 = -11\n",
            "Iteración 3: Relajada D2→E2, E2 = -9\n",
            "Iteración 3: Relajada E2→F2, F2 = -10\n",
            "Iteración 3: Relajada F2→B2, B2 = -12\n",
            "Iteración 3: Relajada F2→G2, G2 = -7\n",
            "Iteración 4: Relajada B2→D2, D2 = -16\n",
            "Iteración 4: Relajada D2→E2, E2 = -14\n",
            "Iteración 4: Relajada E2→F2, F2 = -15\n",
            "Iteración 4: Relajada F2→B2, B2 = -17\n",
            "Iteración 4: Relajada F2→G2, G2 = -12\n",
            "Iteración 5: Relajada B2→D2, D2 = -21\n",
            "Iteración 5: Relajada D2→E2, E2 = -19\n",
            "Iteración 5: Relajada E2→F2, F2 = -20\n",
            "Iteración 5: Relajada F2→B2, B2 = -22\n",
            "Iteración 5: Relajada F2→G2, G2 = -17\n",
            "Iteración 6: Relajada B2→D2, D2 = -26\n",
            "Iteración 6: Relajada D2→E2, E2 = -24\n",
            "Iteración 6: Relajada E2→F2, F2 = -25\n",
            "Iteración 6: Relajada F2→B2, B2 = -27\n",
            "Iteración 6: Relajada F2→G2, G2 = -22\n",
            "Ciclo negativo detectado en B2→D2\n",
            "No se pueden calcular distancias debido a ciclo negativo\n"
          ]
        }
      ]
    },
    {
      "cell_type": "markdown",
      "source": [
        "Problema 10"
      ],
      "metadata": {
        "id": "RSELGXfJXRcX"
      }
    },
    {
      "cell_type": "code",
      "source": [
        "g = Graph(6)\n",
        "\n",
        "g.add_vertex_data(0, 'H2')\n",
        "g.add_vertex_data(1, 'I2')\n",
        "g.add_vertex_data(2, 'J2')\n",
        "g.add_vertex_data(3, 'K2')\n",
        "g.add_vertex_data(4, 'L2')\n",
        "g.add_vertex_data(5, 'M2')\n",
        "\n",
        "g.add_edge(0, 1, 4)\n",
        "g.add_edge(0, 2, 2)\n",
        "g.add_edge(1, 3, -3)\n",
        "g.add_edge(2, 3, 1)\n",
        "g.add_edge(3, 4, 2)\n",
        "g.add_edge(4, 5, -2)\n",
        "g.add_edge(5, 1, 1)\n",
        "\n",
        "source = \"H2\"\n",
        "print(f\"Empezando desde el vertice  {source}:\")\n",
        "distances = g.bellman_ford(source)\n",
        "if distances is None:\n",
        "    print(\"No se pueden calcular distancias debido a ciclo negativo\")\n",
        "else:\n",
        "    for i, d in enumerate(distances):\n",
        "        print(f\"Distancia desde {source} a {g.vertex_data[i]}: {d}\")"
      ],
      "metadata": {
        "colab": {
          "base_uri": "https://localhost:8080/"
        },
        "id": "jL2regxTXTBN",
        "outputId": "5ad8a2a8-fbd0-438d-80e8-dfb63d79c86e"
      },
      "execution_count": null,
      "outputs": [
        {
          "output_type": "stream",
          "name": "stdout",
          "text": [
            "Empezando desde el vertice  H2:\n",
            "Iteración 1: Relajada H2→I2, I2 = 4\n",
            "Iteración 1: Relajada H2→J2, J2 = 2\n",
            "Iteración 1: Relajada I2→K2, K2 = 1\n",
            "Iteración 1: Relajada K2→L2, L2 = 3\n",
            "Iteración 1: Relajada L2→M2, M2 = 1\n",
            "Iteración 1: Relajada M2→I2, I2 = 2\n",
            "Iteración 2: Relajada I2→K2, K2 = -1\n",
            "Iteración 2: Relajada K2→L2, L2 = 1\n",
            "Iteración 2: Relajada L2→M2, M2 = -1\n",
            "Iteración 2: Relajada M2→I2, I2 = 0\n",
            "Iteración 3: Relajada I2→K2, K2 = -3\n",
            "Iteración 3: Relajada K2→L2, L2 = -1\n",
            "Iteración 3: Relajada L2→M2, M2 = -3\n",
            "Iteración 3: Relajada M2→I2, I2 = -2\n",
            "Iteración 4: Relajada I2→K2, K2 = -5\n",
            "Iteración 4: Relajada K2→L2, L2 = -3\n",
            "Iteración 4: Relajada L2→M2, M2 = -5\n",
            "Iteración 4: Relajada M2→I2, I2 = -4\n",
            "Iteración 5: Relajada I2→K2, K2 = -7\n",
            "Iteración 5: Relajada K2→L2, L2 = -5\n",
            "Iteración 5: Relajada L2→M2, M2 = -7\n",
            "Iteración 5: Relajada M2→I2, I2 = -6\n",
            "Ciclo negativo detectado en I2→K2\n",
            "No se pueden calcular distancias debido a ciclo negativo\n"
          ]
        }
      ]
    },
    {
      "cell_type": "markdown",
      "source": [
        "Problema 11"
      ],
      "metadata": {
        "id": "vrUs5z-tY4SI"
      }
    },
    {
      "cell_type": "code",
      "source": [
        "g = Graph(7)\n",
        "\n",
        "g.add_vertex_data(0, 'N2')\n",
        "g.add_vertex_data(1, 'O2')\n",
        "g.add_vertex_data(2, 'P2')\n",
        "g.add_vertex_data(3, 'Q2')\n",
        "g.add_vertex_data(4, 'R2')\n",
        "g.add_vertex_data(5, 'S2')\n",
        "g.add_vertex_data(6, 'T2')\n",
        "\n",
        "g.add_edge(0, 1, 3)\n",
        "g.add_edge(0, 2, 2)\n",
        "g.add_edge(1, 3, -2)\n",
        "g.add_edge(2, 3, 1)\n",
        "g.add_edge(3, 4, 4)\n",
        "g.add_edge(4, 5, -3)\n",
        "g.add_edge(5, 1, -1)\n",
        "g.add_edge(5, 6, 2)\n",
        "\n",
        "source = \"N2\"\n",
        "print(f\"Empezando desde el vertice  {source}:\")\n",
        "distances = g.bellman_ford(source)\n",
        "if distances is None:\n",
        "    print(\"No se pueden calcular distancias debido a ciclo negativo\")\n",
        "else:\n",
        "    for i, d in enumerate(distances):\n",
        "        print(f\"Distancia desde {source} a {g.vertex_data[i]}: {d}\")"
      ],
      "metadata": {
        "colab": {
          "base_uri": "https://localhost:8080/"
        },
        "id": "XjF3_zncY8UF",
        "outputId": "947f7c8f-8908-4df5-9687-a57d18afe3b6"
      },
      "execution_count": null,
      "outputs": [
        {
          "output_type": "stream",
          "name": "stdout",
          "text": [
            "Empezando desde el vertice  N2:\n",
            "Iteración 1: Relajada N2→O2, O2 = 3\n",
            "Iteración 1: Relajada N2→P2, P2 = 2\n",
            "Iteración 1: Relajada O2→Q2, Q2 = 1\n",
            "Iteración 1: Relajada Q2→R2, R2 = 5\n",
            "Iteración 1: Relajada R2→S2, S2 = 2\n",
            "Iteración 1: Relajada S2→O2, O2 = 1\n",
            "Iteración 1: Relajada S2→T2, T2 = 4\n",
            "Iteración 2: Relajada O2→Q2, Q2 = -1\n",
            "Iteración 2: Relajada Q2→R2, R2 = 3\n",
            "Iteración 2: Relajada R2→S2, S2 = 0\n",
            "Iteración 2: Relajada S2→O2, O2 = -1\n",
            "Iteración 2: Relajada S2→T2, T2 = 2\n",
            "Iteración 3: Relajada O2→Q2, Q2 = -3\n",
            "Iteración 3: Relajada Q2→R2, R2 = 1\n",
            "Iteración 3: Relajada R2→S2, S2 = -2\n",
            "Iteración 3: Relajada S2→O2, O2 = -3\n",
            "Iteración 3: Relajada S2→T2, T2 = 0\n",
            "Iteración 4: Relajada O2→Q2, Q2 = -5\n",
            "Iteración 4: Relajada Q2→R2, R2 = -1\n",
            "Iteración 4: Relajada R2→S2, S2 = -4\n",
            "Iteración 4: Relajada S2→O2, O2 = -5\n",
            "Iteración 4: Relajada S2→T2, T2 = -2\n",
            "Iteración 5: Relajada O2→Q2, Q2 = -7\n",
            "Iteración 5: Relajada Q2→R2, R2 = -3\n",
            "Iteración 5: Relajada R2→S2, S2 = -6\n",
            "Iteración 5: Relajada S2→O2, O2 = -7\n",
            "Iteración 5: Relajada S2→T2, T2 = -4\n",
            "Iteración 6: Relajada O2→Q2, Q2 = -9\n",
            "Iteración 6: Relajada Q2→R2, R2 = -5\n",
            "Iteración 6: Relajada R2→S2, S2 = -8\n",
            "Iteración 6: Relajada S2→O2, O2 = -9\n",
            "Iteración 6: Relajada S2→T2, T2 = -6\n",
            "Ciclo negativo detectado en O2→Q2\n",
            "No se pueden calcular distancias debido a ciclo negativo\n"
          ]
        }
      ]
    },
    {
      "cell_type": "markdown",
      "source": [
        "Problema 12"
      ],
      "metadata": {
        "id": "8ymWmlfraiEf"
      }
    },
    {
      "cell_type": "code",
      "source": [
        "g = Graph(6)\n",
        "\n",
        "g.add_vertex_data(0, 'U2')\n",
        "g.add_vertex_data(1, 'V2')\n",
        "g.add_vertex_data(2, 'W2')\n",
        "g.add_vertex_data(3, 'X2')\n",
        "g.add_vertex_data(4, 'Y2')\n",
        "g.add_vertex_data(5, 'Z2')\n",
        "\n",
        "g.add_edge(0, 1, 4)\n",
        "g.add_edge(0, 2, 2)\n",
        "g.add_edge(1, 3, -3)\n",
        "g.add_edge(2, 3, 1)\n",
        "g.add_edge(3, 4, 3)\n",
        "g.add_edge(4, 5, -2)\n",
        "g.add_edge(5, 1, 1)\n",
        "\n",
        "source = \"U2\"\n",
        "print(f\"Empezando desde el vertice  {source}:\")\n",
        "distances = g.bellman_ford(source)\n",
        "if distances is None:\n",
        "    print(\"No se pueden calcular distancias debido a ciclo negativo\")\n",
        "else:\n",
        "    for i, d in enumerate(distances):\n",
        "        print(f\"Distancia desde {source} a {g.vertex_data[i]}: {d}\")"
      ],
      "metadata": {
        "colab": {
          "base_uri": "https://localhost:8080/"
        },
        "id": "vSbZfWvbakEO",
        "outputId": "007aff30-5dc5-45f1-b1b7-6c0ce9766f20"
      },
      "execution_count": null,
      "outputs": [
        {
          "output_type": "stream",
          "name": "stdout",
          "text": [
            "Empezando desde el vertice  U2:\n",
            "Iteración 1: Relajada U2→V2, V2 = 4\n",
            "Iteración 1: Relajada U2→W2, W2 = 2\n",
            "Iteración 1: Relajada V2→X2, X2 = 1\n",
            "Iteración 1: Relajada X2→Y2, Y2 = 4\n",
            "Iteración 1: Relajada Y2→Z2, Z2 = 2\n",
            "Iteración 1: Relajada Z2→V2, V2 = 3\n",
            "Iteración 2: Relajada V2→X2, X2 = 0\n",
            "Iteración 2: Relajada X2→Y2, Y2 = 3\n",
            "Iteración 2: Relajada Y2→Z2, Z2 = 1\n",
            "Iteración 2: Relajada Z2→V2, V2 = 2\n",
            "Iteración 3: Relajada V2→X2, X2 = -1\n",
            "Iteración 3: Relajada X2→Y2, Y2 = 2\n",
            "Iteración 3: Relajada Y2→Z2, Z2 = 0\n",
            "Iteración 3: Relajada Z2→V2, V2 = 1\n",
            "Iteración 4: Relajada V2→X2, X2 = -2\n",
            "Iteración 4: Relajada X2→Y2, Y2 = 1\n",
            "Iteración 4: Relajada Y2→Z2, Z2 = -1\n",
            "Iteración 4: Relajada Z2→V2, V2 = 0\n",
            "Iteración 5: Relajada V2→X2, X2 = -3\n",
            "Iteración 5: Relajada X2→Y2, Y2 = 0\n",
            "Iteración 5: Relajada Y2→Z2, Z2 = -2\n",
            "Iteración 5: Relajada Z2→V2, V2 = -1\n",
            "Ciclo negativo detectado en V2→X2\n",
            "No se pueden calcular distancias debido a ciclo negativo\n"
          ]
        }
      ]
    }
  ]
}